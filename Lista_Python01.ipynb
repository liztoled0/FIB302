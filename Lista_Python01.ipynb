{
  "nbformat": 4,
  "nbformat_minor": 0,
  "metadata": {
    "colab": {
      "provenance": [],
      "authorship_tag": "ABX9TyP0GehMJnVPF10h//tkOHjb",
      "include_colab_link": true
    },
    "kernelspec": {
      "name": "python3",
      "display_name": "Python 3"
    },
    "language_info": {
      "name": "python"
    }
  },
  "cells": [
    {
      "cell_type": "markdown",
      "metadata": {
        "id": "view-in-github",
        "colab_type": "text"
      },
      "source": [
        "<a href=\"https://colab.research.google.com/github/liztoled0/FIB302/blob/main/Lista_Python01.ipynb\" target=\"_parent\"><img src=\"https://colab.research.google.com/assets/colab-badge.svg\" alt=\"Open In Colab\"/></a>"
      ]
    },
    {
      "cell_type": "code",
      "execution_count": 2,
      "metadata": {
        "colab": {
          "base_uri": "https://localhost:8080/"
        },
        "id": "pcISHWH5gcnP",
        "outputId": "276c4160-ba32-422f-9bda-0ba94b793cc6"
      },
      "outputs": [
        {
          "output_type": "stream",
          "name": "stdout",
          "text": [
            "<class 'int'>\n",
            "<class 'float'>\n",
            "<class 'str'>\n"
          ]
        }
      ],
      "source": [
        "#Exercicio 1\n",
        "x = 1\n",
        "y = 1.1\n",
        "a = \"abacate\"\n",
        "\n",
        "print(type(x))\n",
        "print(type(y))\n",
        "print(type(a))\n"
      ]
    },
    {
      "cell_type": "code",
      "source": [
        "#Exercicio 2\n",
        "x = 1+2\n",
        "y = 2.2/3.14\n",
        "a = \"abacate\"\n",
        "b= \" com goiabada\"\n",
        "c = a+b\n",
        "#print(c,x,y)\n",
        "nome = input(\"Digite sseu nome: \")\n",
        "print(\"Ola! Seja bem vindo \",nome)\n"
      ],
      "metadata": {
        "colab": {
          "base_uri": "https://localhost:8080/"
        },
        "id": "f385i1BMhgLz",
        "outputId": "b9fa6a29-f8ae-4b18-8050-6a14f25486ff"
      },
      "execution_count": 6,
      "outputs": [
        {
          "output_type": "stream",
          "name": "stdout",
          "text": [
            "abacate com goiabada 3 0.7006369426751593\n",
            "Digite sseu nome: nome\n",
            "Ola! Seja bem vindo  nome\n"
          ]
        }
      ]
    },
    {
      "cell_type": "code",
      "source": [
        "#Exercico 3\n",
        "comp = int(input(\"Digite o comprimento do retangulo \"))\n",
        "larg = int(input(\"Digite a largura do retangulo \"))\n",
        "\n",
        "area = comp*larg\n",
        "print(\"A area do retangulo é:\", area,\"m²\")\n",
        "\n"
      ],
      "metadata": {
        "colab": {
          "base_uri": "https://localhost:8080/"
        },
        "id": "3c20Tlj2ioOy",
        "outputId": "7f64f82d-5ec0-4f17-9beb-76eedb6fdd27"
      },
      "execution_count": 8,
      "outputs": [
        {
          "output_type": "stream",
          "name": "stdout",
          "text": [
            "Digite o comprimento do retangulo 5\n",
            "Digite a largura do retangulo 5\n",
            "A area do retangulo é:  25 m²\n"
          ]
        }
      ]
    },
    {
      "cell_type": "code",
      "source": [
        "#Exercicio 4\n",
        "C = float(input(\"Digite a temperatura em Graus Celsius que deseja converter para Fahrenheit: \"))\n",
        "F = (C*1.8)+32\n",
        "print(\"A conversão de \", '{:.1f}'.format(C), \"Graus celsius para fahrenheit é:\" ,'{:.1f}'.format(F), \" graus\")"
      ],
      "metadata": {
        "colab": {
          "base_uri": "https://localhost:8080/"
        },
        "id": "J-j3nDNujQA6",
        "outputId": "5808391d-4dce-4950-ae9f-14ea3b006adf"
      },
      "execution_count": 9,
      "outputs": [
        {
          "output_type": "stream",
          "name": "stdout",
          "text": [
            "Digite a temperatura em Graus Celsius que deseja converter para Fahrenheit: 30\n",
            "A conversão de  30.0 Graus celsius para fahrenheit é: 86.0  graus\n"
          ]
        }
      ]
    },
    {
      "cell_type": "code",
      "source": [
        "#Exercicio 5\n",
        "print((2 * (3 + 4)) / 5)\n",
        "\n",
        "\n"
      ],
      "metadata": {
        "colab": {
          "base_uri": "https://localhost:8080/"
        },
        "id": "CJzvofmTlHJs",
        "outputId": "49499baa-ce46-4d01-8519-eaa62e76f7c6"
      },
      "execution_count": 12,
      "outputs": [
        {
          "output_type": "stream",
          "name": "stdout",
          "text": [
            "2.8\n"
          ]
        }
      ]
    },
    {
      "cell_type": "code",
      "source": [
        "#Exercicio 6\n",
        "x = \"Abacate\"\n",
        "\n",
        "for i in reversed(x):\n",
        "  print(i)\n"
      ],
      "metadata": {
        "colab": {
          "base_uri": "https://localhost:8080/"
        },
        "id": "P0RcBhTmlm1v",
        "outputId": "797b4335-815a-4b08-96a1-3708aaadb54f"
      },
      "execution_count": 15,
      "outputs": [
        {
          "output_type": "stream",
          "name": "stdout",
          "text": [
            "e\n",
            "t\n",
            "a\n",
            "c\n",
            "a\n",
            "b\n",
            "A\n"
          ]
        }
      ]
    },
    {
      "cell_type": "code",
      "source": [
        "#Exercicio 7\n",
        "x = \"ReIqUeIjAo\"\n",
        "x= x.upper()\n",
        "print(x)"
      ],
      "metadata": {
        "colab": {
          "base_uri": "https://localhost:8080/"
        },
        "id": "1rqgjr3FlofB",
        "outputId": "f0cfc959-7de0-43bd-ff56-27ae70105ca5"
      },
      "execution_count": 18,
      "outputs": [
        {
          "output_type": "stream",
          "name": "stdout",
          "text": [
            "REIQUEIJAO\n"
          ]
        }
      ]
    }
  ]
}