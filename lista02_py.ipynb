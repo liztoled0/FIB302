{
  "nbformat": 4,
  "nbformat_minor": 0,
  "metadata": {
    "colab": {
      "provenance": [],
      "authorship_tag": "ABX9TyPmEnDArZcBSRWAg3T5pqDY",
      "include_colab_link": true
    },
    "kernelspec": {
      "name": "python3",
      "display_name": "Python 3"
    },
    "language_info": {
      "name": "python"
    }
  },
  "cells": [
    {
      "cell_type": "markdown",
      "metadata": {
        "id": "view-in-github",
        "colab_type": "text"
      },
      "source": [
        "<a href=\"https://colab.research.google.com/github/liztoled0/FIB302/blob/main/lista02_py.ipynb\" target=\"_parent\"><img src=\"https://colab.research.google.com/assets/colab-badge.svg\" alt=\"Open In Colab\"/></a>"
      ]
    },
    {
      "cell_type": "code",
      "execution_count": 1,
      "metadata": {
        "colab": {
          "base_uri": "https://localhost:8080/"
        },
        "id": "I3Gdp2wGLnIS",
        "outputId": "656927fd-f800-48d3-e793-cb968a64ebfa"
      },
      "outputs": [
        {
          "output_type": "stream",
          "name": "stdout",
          "text": [
            "Lista inteira: [1, 2, 3, 4, 5]\n",
            "Terceiro elemento: 3\n"
          ]
        }
      ],
      "source": [
        "#Exercicio 1\n",
        "# Definindo a lista\n",
        "lista = [1, 2, 3, 4, 5]\n",
        "\n",
        "# Imprimindo a lista inteira\n",
        "print(\"Lista inteira:\", lista)\n",
        "\n",
        "# Imprimindo o terceiro elemento\n",
        "print(\"Terceiro elemento:\", lista[2])\n"
      ]
    },
    {
      "cell_type": "code",
      "source": [
        "#Exercicio 2\n",
        "# Crie uma lista vazia\n",
        "lista = []\n",
        "\n",
        "# Anexe três inteiros à lista\n",
        "lista.append(1)\n",
        "lista.append(2)\n",
        "lista.append(3)\n",
        "\n",
        "# Estenda a lista com outra lista contendo mais dois inteiros\n",
        "lista.extend([4, 5])\n",
        "\n",
        "# Imprima a lista final\n",
        "print(lista)"
      ],
      "metadata": {
        "colab": {
          "base_uri": "https://localhost:8080/"
        },
        "id": "p1YnzcQXMbeE",
        "outputId": "c66be22e-f578-46dd-e2bf-c5a6e92d2419"
      },
      "execution_count": 2,
      "outputs": [
        {
          "output_type": "stream",
          "name": "stdout",
          "text": [
            "[1, 2, 3, 4, 5]\n"
          ]
        }
      ]
    },
    {
      "cell_type": "code",
      "source": [
        "#Exercicio 3\n",
        "# criando lista de 0 a 10\n",
        "numbers = [1, 2, 3, 4, 5, 6, 7, 8, 9, 10]\n",
        "\n",
        "# Imprimindo os 5 primeiros\n",
        "print(\"Os primeiros cinco números são:\", numbers[:5])\n",
        "\n",
        "# Imprimindo os 5 ultimos\n",
        "print(\"Os últimos cinco números são:\", numbers[-5:])"
      ],
      "metadata": {
        "colab": {
          "base_uri": "https://localhost:8080/"
        },
        "id": "w3AgSqGtNSbO",
        "outputId": "f044d51f-b24e-4d15-d315-f128e9eea313"
      },
      "execution_count": 3,
      "outputs": [
        {
          "output_type": "stream",
          "name": "stdout",
          "text": [
            "Os primeiros cinco números são: [1, 2, 3, 4, 5]\n",
            "Os últimos cinco números são: [6, 7, 8, 9, 10]\n"
          ]
        }
      ]
    },
    {
      "cell_type": "code",
      "source": [
        "#Exercicio 4\n",
        "# Define duas listas de igual comprimento contendo inteiros\n",
        "lista1 =[1, 2, 3, 4, 5]\n",
        "lista2 =[6, 7, 8, 9, 10]\n",
        "\n",
        "# Adicione os elementos correspondentes das duas listas\n",
        "resultado = lista1 + lista2\n",
        "\n",
        "# Imprima o resultado\n",
        "print(resultado)\n"
      ],
      "metadata": {
        "colab": {
          "base_uri": "https://localhost:8080/"
        },
        "id": "zizOfriSNoRJ",
        "outputId": "788082c1-c21f-4288-a629-68738f442b24"
      },
      "execution_count": 4,
      "outputs": [
        {
          "output_type": "stream",
          "name": "stdout",
          "text": [
            "[1, 2, 3, 4, 5, 6, 7, 8, 9, 10]\n"
          ]
        }
      ]
    },
    {
      "cell_type": "code",
      "source": [
        "#Exercicio 5\n",
        "# Define duas listas\n",
        "lista1 = [1, 2, 3]\n",
        "lista2 = [4, 5, 6]\n",
        "\n",
        "# Concatena as listas usando o método extend()\n",
        "lista1.extend(lista2)\n",
        "\n",
        "# Imprime a lista concatenada\n",
        "print(lista1)"
      ],
      "metadata": {
        "colab": {
          "base_uri": "https://localhost:8080/"
        },
        "id": "K85BlZ8IOLCT",
        "outputId": "12dd4ff0-606d-4db8-afc0-818fd2e02240"
      },
      "execution_count": 5,
      "outputs": [
        {
          "output_type": "stream",
          "name": "stdout",
          "text": [
            "[1, 2, 3, 4, 5, 6]\n"
          ]
        }
      ]
    },
    {
      "cell_type": "code",
      "source": [
        "#Exercicio 6\n",
        "# Crie um array de inteiros\n",
        "array = [1, 2, 3, 4, 5]\n",
        "# Imprima o array\n",
        "print(array)\n"
      ],
      "metadata": {
        "id": "NOnKA8r9Orl6"
      },
      "execution_count": null,
      "outputs": []
    },
    {
      "cell_type": "code",
      "source": [
        "#Exercicio 7\n",
        "# Crie um array de números de ponto flutuante\n",
        "array = [1.1, 2.2, 3.3, 4.4, 5.5]\n",
        "\n",
        "# Acesse o terceiro elemento e modifique-o\n",
        "array[2] = 9.9\n",
        "\n",
        "# Imprima o array modificado\n",
        "print(array)\n"
      ],
      "metadata": {
        "colab": {
          "base_uri": "https://localhost:8080/"
        },
        "id": "mIt-OVSCPQr9",
        "outputId": "f3ef8605-3277-4897-fc80-ebb762656d63"
      },
      "execution_count": 6,
      "outputs": [
        {
          "output_type": "stream",
          "name": "stdout",
          "text": [
            "[1.1, 2.2, 9.9, 4.4, 5.5]\n"
          ]
        }
      ]
    },
    {
      "cell_type": "code",
      "source": [
        "#Exercicio 8\n",
        "import numpy as np\n",
        "\n",
        "# Define dois arrays de inteiros\n",
        "array1 = np.array([1, 2, 3, 4, 5])\n",
        "array2 = np.array([6, 7, 8, 9, 10])\n",
        "\n",
        "# Adicione os elementos correspondentes\n",
        "resultado = array1 + array2\n",
        "\n",
        "# Imprima o resultado\n",
        "print(resultado)\n"
      ],
      "metadata": {
        "colab": {
          "base_uri": "https://localhost:8080/"
        },
        "id": "8WhwwLyUPYW2",
        "outputId": "02dd0d06-a2f4-4794-8c32-592571789b20"
      },
      "execution_count": 7,
      "outputs": [
        {
          "output_type": "stream",
          "name": "stdout",
          "text": [
            "[ 7  9 11 13 15]\n"
          ]
        }
      ]
    },
    {
      "cell_type": "code",
      "source": [
        "#Exercicio 9\n",
        "import numpy as np\n",
        "\n",
        "# Define a velocidade inicial (v_0), o ângulo (theta) e a aceleração da gravidade (g)\n",
        "v_0 = 20  # m/s\n",
        "theta = 45  # graus\n",
        "g = 9.8  # m/s^2\n",
        "\n",
        "# Converte o ângulo para radianos\n",
        "theta = np.deg2rad(theta)\n",
        "\n",
        "# Define o array de tempo (t) de 0 a 10 segundos com um passo de 0.1 segundo\n",
        "t = np.arange(0, 10, 0.1)\n",
        "\n",
        "# Calcula as posições horizontal (x) e vertical (y) do projétil\n",
        "x = v_0 * np.cos(theta) * t\n",
        "y = v_0 * np.sin(theta) * t - 0.5 * g * t**2\n",
        "\n",
        "# Imprime as posições horizontal e vertical\n",
        "print(\"Posição horizontal (x):\", x)\n",
        "print(\"Posição vertical (y):\", y)\n"
      ],
      "metadata": {
        "colab": {
          "base_uri": "https://localhost:8080/"
        },
        "id": "5qXFrRaVPw92",
        "outputId": "bc3fd77d-da09-4adb-fdec-b5f3f549368d"
      },
      "execution_count": 8,
      "outputs": [
        {
          "output_type": "stream",
          "name": "stdout",
          "text": [
            "Posição horizontal (x): [  0.           1.41421356   2.82842712   4.24264069   5.65685425\n",
            "   7.07106781   8.48528137   9.89949494  11.3137085   12.72792206\n",
            "  14.14213562  15.55634919  16.97056275  18.38477631  19.79898987\n",
            "  21.21320344  22.627417    24.04163056  25.45584412  26.87005769\n",
            "  28.28427125  29.69848481  31.11269837  32.52691193  33.9411255\n",
            "  35.35533906  36.76955262  38.18376618  39.59797975  41.01219331\n",
            "  42.42640687  43.84062043  45.254834    46.66904756  48.08326112\n",
            "  49.49747468  50.91168825  52.32590181  53.74011537  55.15432893\n",
            "  56.56854249  57.98275606  59.39696962  60.81118318  62.22539674\n",
            "  63.63961031  65.05382387  66.46803743  67.88225099  69.29646456\n",
            "  70.71067812  72.12489168  73.53910524  74.95331881  76.36753237\n",
            "  77.78174593  79.19595949  80.61017306  82.02438662  83.43860018\n",
            "  84.85281374  86.2670273   87.68124087  89.09545443  90.50966799\n",
            "  91.92388155  93.33809512  94.75230868  96.16652224  97.5807358\n",
            "  98.99494937 100.40916293 101.82337649 103.23759005 104.65180362\n",
            " 106.06601718 107.48023074 108.8944443  110.30865787 111.72287143\n",
            " 113.13708499 114.55129855 115.96551211 117.37972568 118.79393924\n",
            " 120.2081528  121.62236636 123.03657993 124.45079349 125.86500705\n",
            " 127.27922061 128.69343418 130.10764774 131.5218613  132.93607486\n",
            " 134.35028843 135.76450199 137.17871555 138.59292911 140.00714267]\n",
            "Posição vertical (y): [ 0.00000000e+00  1.36521356e+00  2.63242712e+00  3.80164069e+00\n",
            "  4.87285425e+00  5.84606781e+00  6.72128137e+00  7.49849494e+00\n",
            "  8.17770850e+00  8.75892206e+00  9.24213562e+00  9.62734919e+00\n",
            "  9.91456275e+00  1.01037763e+01  1.01949899e+01  1.01882034e+01\n",
            "  1.00834170e+01  9.88063056e+00  9.57984412e+00  9.18105769e+00\n",
            "  8.68427125e+00  8.08948481e+00  7.39669837e+00  6.60591193e+00\n",
            "  5.71712550e+00  4.73033906e+00  3.64555262e+00  2.46276618e+00\n",
            "  1.18197975e+00 -1.96806691e-01 -1.67359313e+00 -3.24837957e+00\n",
            " -4.92116600e+00 -6.69195244e+00 -8.56073888e+00 -1.05275253e+01\n",
            " -1.25923118e+01 -1.47550982e+01 -1.70158846e+01 -1.93746711e+01\n",
            " -2.18314575e+01 -2.43862439e+01 -2.70390304e+01 -2.97898168e+01\n",
            " -3.26386033e+01 -3.55853897e+01 -3.86301761e+01 -4.17729626e+01\n",
            " -4.50137490e+01 -4.83525354e+01 -5.17893219e+01 -5.53241083e+01\n",
            " -5.89568948e+01 -6.26876812e+01 -6.65164676e+01 -7.04432541e+01\n",
            " -7.44680405e+01 -7.85908269e+01 -8.28116134e+01 -8.71303998e+01\n",
            " -9.15471863e+01 -9.60619727e+01 -1.00674759e+02 -1.05385546e+02\n",
            " -1.10194332e+02 -1.15101118e+02 -1.20105905e+02 -1.25208691e+02\n",
            " -1.30409478e+02 -1.35708264e+02 -1.41105051e+02 -1.46599837e+02\n",
            " -1.52192624e+02 -1.57883410e+02 -1.63672196e+02 -1.69558983e+02\n",
            " -1.75543769e+02 -1.81626556e+02 -1.87807342e+02 -1.94086129e+02\n",
            " -2.00462915e+02 -2.06937701e+02 -2.13510488e+02 -2.20181274e+02\n",
            " -2.26950061e+02 -2.33816847e+02 -2.40781634e+02 -2.47844420e+02\n",
            " -2.55005207e+02 -2.62263993e+02 -2.69620779e+02 -2.77075566e+02\n",
            " -2.84628352e+02 -2.92279139e+02 -3.00027925e+02 -3.07874712e+02\n",
            " -3.15819498e+02 -3.23862284e+02 -3.32003071e+02 -3.40241857e+02]\n"
          ]
        }
      ]
    },
    {
      "cell_type": "code",
      "source": [
        "#Exercicio 10\n",
        "import numpy as np\n",
        "import matplotlib.pyplot as plt\n",
        "\n",
        "# Define a amplitude (A) e a velocidade angular (omega)\n",
        "A = 1  # m\n",
        "omega = 2 * np.pi  # rad/s\n",
        "\n",
        "# Define o array de tempo (t) de 0 a 10 segundos com um passo de 0.1 segundo\n",
        "t = np.arange(0, 10, 0.1)\n",
        "\n",
        "# Calcula o deslocamento (x) do objeto em movimento harmônico simples\n",
        "x = A * np.cos(omega * t)\n",
        "\n",
        "# Cria um gráfico do deslocamento em função do tempo\n",
        "plt.figure(figsize=(10, 6))\n",
        "plt.plot(t, x)\n",
        "plt.title('Deslocamento de um objeto em movimento harmônico simples')\n",
        "plt.xlabel('Tempo (s)')\n",
        "plt.ylabel('Deslocamento (m)')\n",
        "plt.grid(True)\n",
        "plt.show()\n"
      ],
      "metadata": {
        "colab": {
          "base_uri": "https://localhost:8080/",
          "height": 565
        },
        "id": "58p7k5MNQvHZ",
        "outputId": "990d52ff-da76-4676-c1ff-e60af4d8e667"
      },
      "execution_count": 9,
      "outputs": [
        {
          "output_type": "display_data",
          "data": {
            "text/plain": [
              "<Figure size 1000x600 with 1 Axes>"
            ],
            "image/png": "[encoded data removed]"
          },
          "metadata": {}
        }
      ]
    },
    {
      "cell_type": "code",
      "source": [
        "#extra\n",
        "import numpy as np\n",
        "\n",
        "# Define um array de 10 inteiros\n",
        "array = np.array([1, 2, 3, 4, 5, 6, 7, 8, 9, 10])\n",
        "\n",
        "# Imprime a forma do array\n",
        "print(\"Forma original do array:\", array.shape)\n",
        "\n",
        "# Remodele o array em uma matriz 2x5\n",
        "matriz = array.reshape(2, 5)\n",
        "\n",
        "# Imprime a matriz remodelada\n",
        "print(\"Matriz remodelada:\\n\", matriz)\n"
      ],
      "metadata": {
        "colab": {
          "base_uri": "https://localhost:8080/"
        },
        "id": "MD-wgCBdTXcN",
        "outputId": "8701e766-afd3-43c4-ca1c-2993de16c314"
      },
      "execution_count": 10,
      "outputs": [
        {
          "output_type": "stream",
          "name": "stdout",
          "text": [
            "Forma original do array: (10,)\n",
            "Matriz remodelada:\n",
            " [[ 1  2  3  4  5]\n",
            " [ 6  7  8  9 10]]\n"
          ]
        }
      ]
    },
    {
      "cell_type": "code",
      "source": [
        "#extra 2\n",
        "import numpy as np\n",
        "\n",
        "# Define um array de 10 inteiros\n",
        "array = np.array([1, 2, 3, 4, 5, 6, 7, 8, 9, 10])\n",
        "\n",
        "# Cria uma máscara booleana para números pares\n",
        "mask = array % 2 == 0\n",
        "\n",
        "# Usa a máscara para extrair apenas os números pares\n",
        "pares = array[mask]\n",
        "\n",
        "# Imprime os números pares\n",
        "print(\"Números pares:\", pares)\n"
      ],
      "metadata": {
        "colab": {
          "base_uri": "https://localhost:8080/"
        },
        "id": "ZbO8tOi3UBRe",
        "outputId": "646eebd0-65c4-4ea4-c033-c79aa6b046f9"
      },
      "execution_count": 12,
      "outputs": [
        {
          "output_type": "stream",
          "name": "stdout",
          "text": [
            "Números pares: [ 2  4  6  8 10]\n"
          ]
        }
      ]
    },
    {
      "cell_type": "code",
      "source": [
        "#extra 3\n",
        "import numpy as np\n",
        "\n",
        "# Define dois arrays de inteiros\n",
        "array1 = np.array([1, 2, 3, 4, 5])\n",
        "array2 = np.array([6, 7, 8, 9, 10])\n",
        "\n",
        "# Calcula o produto escalar dos dois arrays\n",
        "produto_escalar = np.dot(array1, array2)\n",
        "\n",
        "# Imprime o resultado\n",
        "print(\"O produto escalar dos dois arrays é:\", produto_escalar)\n"
      ],
      "metadata": {
        "colab": {
          "base_uri": "https://localhost:8080/"
        },
        "id": "Hyfl2YbpU1q3",
        "outputId": "9b5b75c0-0228-4eb7-ca07-239561f093b0"
      },
      "execution_count": 13,
      "outputs": [
        {
          "output_type": "stream",
          "name": "stdout",
          "text": [
            "O produto escalar dos dois arrays é: 130\n"
          ]
        }
      ]
    },
    {
      "cell_type": "code",
      "source": [
        "#extra 4\n",
        "\n",
        "import numpy as np\n",
        "\n",
        "# Crie uma matriz 2x3\n",
        "matriz = np.array([[1, 2, 3], [4, 5, 6]])\n",
        "\n",
        "# Imprime a matriz original\n",
        "print(\"Matriz original:\\n\", matriz)\n",
        "\n",
        "# Transponha a matriz\n",
        "matriz_transposta = matriz.T\n",
        "\n",
        "# Imprime a matriz transposta\n",
        "print(\"Matriz transposta:\\n\", matriz_transposta)\n"
      ],
      "metadata": {
        "colab": {
          "base_uri": "https://localhost:8080/"
        },
        "id": "PKQ_vqHEVNqv",
        "outputId": "ecb220db-eab8-4434-807b-6d4d5d0fe4a8"
      },
      "execution_count": 14,
      "outputs": [
        {
          "output_type": "stream",
          "name": "stdout",
          "text": [
            "Matriz original:\n",
            " [[1 2 3]\n",
            " [4 5 6]]\n",
            "Matriz transposta:\n",
            " [[1 4]\n",
            " [2 5]\n",
            " [3 6]]\n"
          ]
        }
      ]
    }
  ]
}