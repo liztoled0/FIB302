{
  "nbformat": 4,
  "nbformat_minor": 0,
  "metadata": {
    "colab": {
      "provenance": [],
      "authorship_tag": "ABX9TyPDLweXBJX0/yreRVkGnavO",
      "include_colab_link": true
    },
    "kernelspec": {
      "name": "python3",
      "display_name": "Python 3"
    },
    "language_info": {
      "name": "python"
    }
  },
  "cells": [
    {
      "cell_type": "markdown",
      "metadata": {
        "id": "view-in-github",
        "colab_type": "text"
      },
      "source": [
        "<a href=\"https://colab.research.google.com/github/liztoled0/FIB302/blob/main/Lista03.ipynb\" target=\"_parent\"><img src=\"https://colab.research.google.com/assets/colab-badge.svg\" alt=\"Open In Colab\"/></a>"
      ]
    },
    {
      "cell_type": "code",
      "execution_count": 13,
      "metadata": {
        "colab": {
          "base_uri": "https://localhost:8080/"
        },
        "id": "iAgf5Gv6Ys5l",
        "outputId": "7486f13a-daa9-448c-84d6-6698749f761f"
      },
      "outputs": [
        {
          "output_type": "stream",
          "name": "stdout",
          "text": [
            "Digite um numero: 14\n",
            "O numero é par\n"
          ]
        }
      ],
      "source": [
        "#Exercicio 01\n",
        "imparPar = int(input(\"Digite um numero: \"))\n",
        "#Verifica se o resto de divisão do numero do usuario por 2 é igual a 0, caso for, significa que é um numero par\n",
        "if imparPar %2==0:\n",
        "  print(\"O numero é par\")\n",
        "else:\n",
        "  print(\"É impar\")"
      ]
    },
    {
      "cell_type": "code",
      "source": [
        "#Exercicio 02\n",
        "nota = float(input(\"Digite sua nota (0-100): \"))\n",
        "#Realiza um teste de comparação para ver se a nota digitada pelo usuario\n",
        "#é maior ou igual a 60 (nota \"azul\"), caso não for entra no else\n",
        "if(nota>=60):\n",
        "  print(\"ta na media!\")\n",
        "else:\n",
        "  print(\"Abaixo da media amigão\")"
      ],
      "metadata": {
        "id": "jnfk2FyxZJ08"
      },
      "execution_count": null,
      "outputs": []
    },
    {
      "cell_type": "code",
      "source": [
        "#Exercicio 03\n",
        "#Importando uma biblioteca de algortimo de randomização\n",
        "import random\n",
        "#Gerando um numero randomico de 0 a 100\n",
        "aleatorio = random.randint(1, 100)\n",
        "\n",
        "while (1):\n",
        "  resp = int(input(\"Advinhe o numero: \"))\n",
        "  if resp == aleatorio:\n",
        "    print(\"Voce acertou o numero!\")\n",
        "    break\n",
        "  elif(resp>aleatorio):\n",
        "    print(\"O numero digitado é maior que o numero aleatorio\")\n",
        "  elif(resp<aleatorio):\n",
        "    print(\"O numero digitado é menor que o numero aleatorio\")\n"
      ],
      "metadata": {
        "colab": {
          "base_uri": "https://localhost:8080/",
          "height": 587
        },
        "id": "YJq06vP8Z9Cp",
        "outputId": "51954155-116a-49a1-f7a8-09f37a4d38b0"
      },
      "execution_count": 10,
      "outputs": [
        {
          "output_type": "stream",
          "name": "stdout",
          "text": [
            "Advinhe o numero: 50\n",
            "O numero digitado é menor que o numero aleatorio\n",
            "Advinhe o numero: 90\n",
            "O numero digitado é maior que o numero aleatorio\n",
            "Advinhe o numero: 60\n",
            "O numero digitado é maior que o numero aleatorio\n",
            "Advinhe o numero: 59\n",
            "O numero digitado é maior que o numero aleatorio\n",
            "Advinhe o numero: 58\n",
            "O numero digitado é maior que o numero aleatorio\n",
            "Advinhe o numero: 55\n",
            "Voce acertou o numero!\n"
          ]
        },
        {
          "output_type": "error",
          "ename": "KeyboardInterrupt",
          "evalue": "Interrupted by user",
          "traceback": [
            "\u001b[0;31m---------------------------------------------------------------------------\u001b[0m",
            "\u001b[0;31mKeyboardInterrupt\u001b[0m                         Traceback (most recent call last)",
            "\u001b[0;32m<ipython-input-10-5e88e2d9aa04>\u001b[0m in \u001b[0;36m<cell line: 7>\u001b[0;34m()\u001b[0m\n\u001b[1;32m      6\u001b[0m \u001b[0;34m\u001b[0m\u001b[0m\n\u001b[1;32m      7\u001b[0m \u001b[0;32mwhile\u001b[0m \u001b[0;34m(\u001b[0m\u001b[0;36m1\u001b[0m\u001b[0;34m)\u001b[0m\u001b[0;34m:\u001b[0m\u001b[0;34m\u001b[0m\u001b[0;34m\u001b[0m\u001b[0m\n\u001b[0;32m----> 8\u001b[0;31m   \u001b[0mresp\u001b[0m \u001b[0;34m=\u001b[0m \u001b[0mint\u001b[0m\u001b[0;34m(\u001b[0m\u001b[0minput\u001b[0m\u001b[0;34m(\u001b[0m\u001b[0;34m\"Advinhe o numero: \"\u001b[0m\u001b[0;34m)\u001b[0m\u001b[0;34m)\u001b[0m\u001b[0;34m\u001b[0m\u001b[0;34m\u001b[0m\u001b[0m\n\u001b[0m\u001b[1;32m      9\u001b[0m   \u001b[0;32mif\u001b[0m \u001b[0mresp\u001b[0m \u001b[0;34m==\u001b[0m \u001b[0maleatorio\u001b[0m\u001b[0;34m:\u001b[0m\u001b[0;34m\u001b[0m\u001b[0;34m\u001b[0m\u001b[0m\n\u001b[1;32m     10\u001b[0m     \u001b[0mprint\u001b[0m\u001b[0;34m(\u001b[0m\u001b[0;34m\"Voce acertou o numero!\"\u001b[0m\u001b[0;34m)\u001b[0m\u001b[0;34m\u001b[0m\u001b[0;34m\u001b[0m\u001b[0m\n",
            "\u001b[0;32m/usr/local/lib/python3.10/dist-packages/ipykernel/kernelbase.py\u001b[0m in \u001b[0;36mraw_input\u001b[0;34m(self, prompt)\u001b[0m\n\u001b[1;32m    849\u001b[0m                 \u001b[0;34m\"raw_input was called, but this frontend does not support input requests.\"\u001b[0m\u001b[0;34m\u001b[0m\u001b[0;34m\u001b[0m\u001b[0m\n\u001b[1;32m    850\u001b[0m             )\n\u001b[0;32m--> 851\u001b[0;31m         return self._input_request(str(prompt),\n\u001b[0m\u001b[1;32m    852\u001b[0m             \u001b[0mself\u001b[0m\u001b[0;34m.\u001b[0m\u001b[0m_parent_ident\u001b[0m\u001b[0;34m,\u001b[0m\u001b[0;34m\u001b[0m\u001b[0;34m\u001b[0m\u001b[0m\n\u001b[1;32m    853\u001b[0m             \u001b[0mself\u001b[0m\u001b[0;34m.\u001b[0m\u001b[0m_parent_header\u001b[0m\u001b[0;34m,\u001b[0m\u001b[0;34m\u001b[0m\u001b[0;34m\u001b[0m\u001b[0m\n",
            "\u001b[0;32m/usr/local/lib/python3.10/dist-packages/ipykernel/kernelbase.py\u001b[0m in \u001b[0;36m_input_request\u001b[0;34m(self, prompt, ident, parent, password)\u001b[0m\n\u001b[1;32m    893\u001b[0m             \u001b[0;32mexcept\u001b[0m \u001b[0mKeyboardInterrupt\u001b[0m\u001b[0;34m:\u001b[0m\u001b[0;34m\u001b[0m\u001b[0;34m\u001b[0m\u001b[0m\n\u001b[1;32m    894\u001b[0m                 \u001b[0;31m# re-raise KeyboardInterrupt, to truncate traceback\u001b[0m\u001b[0;34m\u001b[0m\u001b[0;34m\u001b[0m\u001b[0m\n\u001b[0;32m--> 895\u001b[0;31m                 \u001b[0;32mraise\u001b[0m \u001b[0mKeyboardInterrupt\u001b[0m\u001b[0;34m(\u001b[0m\u001b[0;34m\"Interrupted by user\"\u001b[0m\u001b[0;34m)\u001b[0m \u001b[0;32mfrom\u001b[0m \u001b[0;32mNone\u001b[0m\u001b[0;34m\u001b[0m\u001b[0;34m\u001b[0m\u001b[0m\n\u001b[0m\u001b[1;32m    896\u001b[0m             \u001b[0;32mexcept\u001b[0m \u001b[0mException\u001b[0m \u001b[0;32mas\u001b[0m \u001b[0me\u001b[0m\u001b[0;34m:\u001b[0m\u001b[0;34m\u001b[0m\u001b[0;34m\u001b[0m\u001b[0m\n\u001b[1;32m    897\u001b[0m                 \u001b[0mself\u001b[0m\u001b[0;34m.\u001b[0m\u001b[0mlog\u001b[0m\u001b[0;34m.\u001b[0m\u001b[0mwarning\u001b[0m\u001b[0;34m(\u001b[0m\u001b[0;34m\"Invalid Message:\"\u001b[0m\u001b[0;34m,\u001b[0m \u001b[0mexc_info\u001b[0m\u001b[0;34m=\u001b[0m\u001b[0;32mTrue\u001b[0m\u001b[0;34m)\u001b[0m\u001b[0;34m\u001b[0m\u001b[0;34m\u001b[0m\u001b[0m\n",
            "\u001b[0;31mKeyboardInterrupt\u001b[0m: Interrupted by user"
          ]
        }
      ]
    },
    {
      "cell_type": "code",
      "source": [
        "#Exercicio 04\n",
        "n = int(input(\"Insira um número inteiro : \"))\n",
        "f=1\n",
        "while n>0:\n",
        "  f=f*n\n",
        "  n-=1\n",
        "print(f\"O fatorial é {f}\")\n"
      ],
      "metadata": {
        "colab": {
          "base_uri": "https://localhost:8080/"
        },
        "id": "M8sp2Q4OdS-7",
        "outputId": "8d7cebd5-fda8-47d3-8f26-8299e213c975"
      },
      "execution_count": 11,
      "outputs": [
        {
          "output_type": "stream",
          "name": "stdout",
          "text": [
            "Insira um número inteiro : 6\n",
            "O fatorial é 720\n"
          ]
        }
      ]
    },
    {
      "cell_type": "code",
      "source": [
        "#Exercicio 05\n",
        "s = input(\"Digite um palindromo: \")\n",
        "\n",
        "# Converte a string para minúsculas e remove os espaços\n",
        "s = s.lower().replace(\" \", \"\")\n",
        "# [::-1] começar pelo fim, inicia na ultima \"casa\" do vetor string e vai retornando um passo por vez enquanto testa se se o inicio é igual ao fim (letra por letra)\n",
        "if s == s[::-1]:\n",
        "    print(\"É um palíndromo.\")\n",
        "else:\n",
        "    print(\"Não é um palíndromo.\")"
      ],
      "metadata": {
        "id": "Mhk2Iccedcqv"
      },
      "execution_count": null,
      "outputs": []
    },
    {
      "cell_type": "code",
      "source": [
        "#Exercicio 06\n",
        "primo = int(input(\"Digite um numero: \"))\n",
        "#indice (só incrementa quando o nuemro é divizivel por ele e por 1)\n",
        "contador = 0\n",
        "#laço de repeticção indo do 1 ao valor do numero do usuario +1\n",
        "for num in range(1, primo + 1):\n",
        "  #Verifica quantas vezes o numero do usuario é divisivel por num de 1 a primo+1\n",
        "    if primo % num == 0:\n",
        "        contador += 1\n",
        "#Teste de comparação verificando depois que o laço de repetição acaba\n",
        "if contador == 2:\n",
        "        print(f'{primo} é primo')\n",
        "else:\n",
        "    print(f'{primo} não é primo')"
      ],
      "metadata": {
        "id": "HlJiRJwodc9-"
      },
      "execution_count": null,
      "outputs": []
    }
  ]
}